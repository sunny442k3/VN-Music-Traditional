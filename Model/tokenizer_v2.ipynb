{
 "cells": [
  {
   "cell_type": "code",
   "execution_count": 1,
   "id": "c8303cb3",
   "metadata": {},
   "outputs": [],
   "source": [
    "import torch\n",
    "import glob\n",
    "from miditoolkit.midi import parser as mid_parser  \n",
    "from miditoolkit.midi import containers as ct\n",
    "import numpy as np\n",
    "import matplotlib.pyplot as plt"
   ]
  },
  {
   "cell_type": "code",
   "execution_count": 45,
   "id": "4c552bfe",
   "metadata": {},
   "outputs": [],
   "source": [
    "NOTE_SEQUENCE = [50, 52, 55, 57, 58, 59, 60, 62, 64, 65, 66, 67, 69, 70, 71, 72, 73, 74, 76, 77, 79, 81]\n",
    "NOTE_CHAR_SEQUENCE = [\"D,\", \"E,\", \"G,\", \"A,\", \"_B,\", \"B,\", \"C\", \"D\", \"E\", \"F\", \"_G\", \"G\",\"A\", \"_B\", \"B\", \"c\", \"_d\", \"d\", \"e\", \"f\", \"g\", \"a\"]\n",
    "NOTE_SEQUENCE = list(map(lambda pitch: f\"n{pitch}\", NOTE_SEQUENCE))\n",
    "VOCABULARY = [\"p\", \"s\", \"e\"] +  NOTE_SEQUENCE\n",
    "LEN_VOCAB = len(VOCABULARY)"
   ]
  },
  {
   "cell_type": "code",
   "execution_count": 3,
   "id": "7dda9fcf",
   "metadata": {},
   "outputs": [],
   "source": [
    "def load_midi_folder(path: str) -> list:\n",
    "    list_path = glob.glob(path)\n",
    "    midi_list = [mid_parser.MidiFile(_path) for _path in list_path]\n",
    "    print(f\"[INFO] Load successfully {len(midi_list)} file midi from source\")\n",
    "    list_path = list(map(lambda _path: _path.split(\"\\\\\")[-1], list_path))\n",
    "    return midi_list, list_path"
   ]
  },
  {
   "cell_type": "code",
   "execution_count": 4,
   "id": "267fd3d8",
   "metadata": {},
   "outputs": [],
   "source": [
    "def midi2seq(midi_list: list) -> list:\n",
    "    sequences = []\n",
    "    tmp_cache = {\n",
    "        \"note\": 0,\n",
    "        \"track\": 0\n",
    "    }\n",
    "    for midi in midi_list:\n",
    "        notes = midi.instruments[0].notes\n",
    "        tmp_cache[\"track\"] += (notes[-1].end//(2*midi.ticks_per_beat) + (notes[-1].end%(2*midi.ticks_per_beat) != 0))\n",
    "        \n",
    "        sub_pitch = 0\n",
    "        if len(midi.key_signature_changes):\n",
    "            sub_pitch = midi.key_signature_changes[0].key_number\n",
    "\n",
    "        sequence = list(map(lambda note: note.pitch-sub_pitch, notes))\n",
    "        \n",
    "        tmp_cache[\"note\"] += len(notes)\n",
    "        sequences.append(sequence)\n",
    "\n",
    "    print(\"[INFO] Convert midi to sequences successfully\")\n",
    "    print(f\"\\t[+] Note: {tmp_cache['note']}\")\n",
    "    print(f\"\\t[+] Track: {tmp_cache['track']}\")\n",
    "    \n",
    "    return sequences"
   ]
  },
  {
   "cell_type": "code",
   "execution_count": 7,
   "id": "18f092a7",
   "metadata": {},
   "outputs": [],
   "source": [
    "def seq2vocab_idx(sequences: list) -> list:\n",
    "    token_idx = []\n",
    "    for seq in sequences:\n",
    "        seq_idx = list(map(lambda pitch: VOCABULARY.index(f\"n{pitch}\"), seq))\n",
    "        token_idx.append(seq_idx)\n",
    "    return token_idx"
   ]
  },
  {
   "cell_type": "code",
   "execution_count": 11,
   "id": "9aa1ac45",
   "metadata": {},
   "outputs": [],
   "source": [
    "def vocab_idx2tensor(tokens_idx: list) -> torch.Tensor:\n",
    "    tensor_data = torch.Tensor()\n",
    "    max_length = 0\n",
    "    for idx, seq_idx in enumerate(tokens_idx):\n",
    "        seq_idx = torch.tensor(seq_idx)\n",
    "        tokens_idx[idx] = seq_idx.view(1, len(seq_idx))\n",
    "        max_length = max(max_length, len(seq_idx))\n",
    "    \n",
    "    for seq_idx in tokens_idx:\n",
    "        pad_zeros = torch.zeros((1, max_length - seq_idx.size(1)))\n",
    "        st_token = torch.tensor([[1]])\n",
    "        en_token = torch.tensor([[2]])\n",
    "        seq_idx = torch.cat([st_token, seq_idx, pad_zeros, en_token], dim=1)\n",
    "        tensor_data = torch.cat((tensor_data, seq_idx), dim=0)\n",
    "    return tensor_data"
   ]
  },
  {
   "cell_type": "code",
   "execution_count": 58,
   "id": "e0a9da06",
   "metadata": {},
   "outputs": [],
   "source": [
    "def plot_midi_roll(midi: mid_parser.MidiFile) -> None:\n",
    "    fig, ax = plt.subplots(figsize=(18, 5))\n",
    "    ax.set_facecolor('White')\n",
    "    start = np.zeros(len(NOTE_SEQUENCE))\n",
    "    label = np.array(NOTE_SEQUENCE)\n",
    "    \n",
    "    notes = midi.instruments[0].notes\n",
    "    for idx, note in enumerate(notes):\n",
    "        pitch = note.pitch\n",
    "        duration = (note.end - note.start)//30\n",
    "        if idx == 0:\n",
    "            start += (note.start//30)\n",
    "        else:\n",
    "            start += (notes[idx].start - notes[idx-1].end)//30\n",
    "        width = np.zeros(len(NOTE_SEQUENCE))\n",
    "        width[NOTE_SEQUENCE.index(f\"n{pitch}\")] = duration\n",
    "        ax.barh(label, width, left=start, height=0.4, label=pitch, color=\"green\")\n",
    "        start += duration\n",
    "        \n",
    "    plt.xlabel(\"Time by tick\")\n",
    "    plt.ylabel(\"Pitch\")\n",
    "    plt.show()"
   ]
  },
  {
   "cell_type": "code",
   "execution_count": 12,
   "id": "c30d1f9a",
   "metadata": {},
   "outputs": [
    {
     "name": "stdout",
     "output_type": "stream",
     "text": [
      "[INFO] Load successfully 34 file midi from source\n",
      "[INFO] Convert midi to sequences successfully\n",
      "\t[+] Note: 3647\n",
      "\t[+] Track: 1174\n"
     ]
    }
   ],
   "source": [
    "path = \"./datasets/midi_songs/*.mid\"\n",
    "midi_list, list_path = load_midi_folder(path)\n",
    "sequences = midi2seq(midi_list)\n",
    "tokens_idx = seq2vocab_idx(sequences)\n",
    "tensor_data = vocab_idx2tensor(tokens_idx)"
   ]
  },
  {
   "cell_type": "code",
   "execution_count": 59,
   "id": "e6cf1029",
   "metadata": {},
   "outputs": [
    {
     "data": {
      "image/png": "[encoded data removed]",
      "text/plain": [
       "<Figure size 1296x360 with 1 Axes>"
      ]
     },
     "metadata": {
      "needs_background": "light"
     },
     "output_type": "display_data"
    }
   ],
   "source": [
    "plot_midi_roll(midi_list[0])"
   ]
  },
  {
   "cell_type": "code",
   "execution_count": 14,
   "id": "be8b8005",
   "metadata": {},
   "outputs": [],
   "source": [
    "torch.save(tensor_data, \"./data_gen/data_v7.pt\")"
   ]
  },
  {
   "cell_type": "code",
   "execution_count": 15,
   "id": "df2c00cb",
   "metadata": {},
   "outputs": [],
   "source": [
    "from train import NeuralNetwork\n",
    "from model import Transformer"
   ]
  },
  {
   "cell_type": "code",
   "execution_count": 16,
   "id": "5182520c",
   "metadata": {},
   "outputs": [],
   "source": [
    "device = \"cuda:0\" if torch.cuda.is_available() else \"cpu\"\n",
    "hyper_params = {\n",
    "    \"d_model\": 256,\n",
    "    \"n_layers\": 3,\n",
    "    \"n_heads\": 2,\n",
    "    \"d_ff\": 128,\n",
    "    \"max_relative_dist\": 512,\n",
    "    \"max_position\": 512,\n",
    "    \"vocab_size\": len(VOCABULARY),\n",
    "    \"dropout\": 0.3,\n",
    "    \"norm_eps\": 1e-3,\n",
    "    \"bias\": True\n",
    "}\n",
    "data_path = \"./data_gen/data_v7.pt\"\n",
    "cpk_path = \"./checkpoints/model_v7.pt\"\n",
    "epoch = 10\n",
    "batch_size = 1\n",
    "pretrain = False"
   ]
  },
  {
   "cell_type": "code",
   "execution_count": 17,
   "id": "b3d6da4d",
   "metadata": {},
   "outputs": [
    {
     "name": "stdout",
     "output_type": "stream",
     "text": [
      "Epoch:  1/10\n",
      "\tTrain process: \u001b[92m ◒ |▇▇▇▇▇▇▇▇▇▇▇▇▇▇▇▇▇▇▇▇▇▇▇▇▇▇▇▇▇▇| 100.0% 0.01s/step - Loss: 3.31229 - Acc: 0.05 \u001b[00m\n",
      "\tValid process: \u001b[92m ◒ |▇▇▇▇▇▇▇▇▇▇▇▇▇▇▇▇▇▇▇▇▇▇▇▇▇▇▇▇▇▇| 100.0% 0.0s/step - Loss: 3.16765 - Acc: 0.01 \u001b[00mm\n",
      "=> Train loss: 3.47293 - Train acc: 0.04 - Valid loss: 3.16501 - Valid acc: 0.02  - Time: 0.64s/epoch\n",
      "Epoch:  2/10\n",
      "\tTrain process: \u001b[92m ◒ |▇▇▇▇▇▇▇▇▇▇▇▇▇▇▇▇▇▇▇▇▇▇▇▇▇▇▇▇▇▇| 100.0% 0.02s/step - Loss: 2.83991 - Acc: 0.2 \u001b[00mm\n",
      "\tValid process: \u001b[92m ◒ |▇▇▇▇▇▇▇▇▇▇▇▇▇▇▇▇▇▇▇▇▇▇▇▇▇▇▇▇▇▇| 100.0% 0.0s/step - Loss: 1.40192 - Acc: 0.83 \u001b[00m\n",
      "=> Train loss: 3.06482 - Train acc: 0.13 - Valid loss: 1.7793 - Valid acc: 0.7  - Time: 0.66s/epoch\n",
      "Epoch:  3/10\n",
      "\tTrain process: \u001b[92m ◒ |▇▇▇▇▇▇▇▇▇▇▇▇▇▇▇▇▇▇▇▇▇▇▇▇▇▇▇▇▇▇| 100.0% 0.01s/step - Loss: 1.5153 - Acc: 0.8 \u001b[00mmm\n",
      "\tValid process: \u001b[92m ◒ |▇▇▇▇▇▇▇▇▇▇▇▇▇▇▇▇▇▇▇▇▇▇▇▇▇▇▇▇▇▇| 100.0% 0.0s/step - Loss: 1.35783 - Acc: 0.75 \u001b[00m\n",
      "=> Train loss: 2.23249 - Train acc: 0.54 - Valid loss: 1.48731 - Valid acc: 0.7  - Time: 0.63s/epoch\n",
      "Epoch:  4/10\n",
      "\tTrain process: \u001b[92m ◒ |▇▇▇▇▇▇▇▇▇▇▇▇▇▇▇▇▇▇▇▇▇▇▇▇▇▇▇▇▇▇| 100.0% 0.02s/step - Loss: 2.14146 - Acc: 0.49 \u001b[00m\n",
      "\tValid process: \u001b[92m ◒ |▇▇▇▇▇▇▇▇▇▇▇▇▇▇▇▇▇▇▇▇▇▇▇▇▇▇▇▇▇▇| 100.0% 0.0s/step - Loss: 1.39235 - Acc: 0.78 \u001b[00mm\n",
      "=> Train loss: 1.54201 - Train acc: 0.7 - Valid loss: 1.82165 - Valid acc: 0.7  - Time: 0.65s/epoch\n",
      "Epoch:  5/10\n",
      "\tTrain process: \u001b[92m ◒ |▇▇▇▇▇▇▇▇▇▇▇▇▇▇▇▇▇▇▇▇▇▇▇▇▇▇▇▇▇▇| 100.0% 0.02s/step - Loss: 0.77769 - Acc: 0.86 \u001b[00m\n",
      "\tValid process: \u001b[92m ◒ |▇▇▇▇▇▇▇▇▇▇▇▇▇▇▇▇▇▇▇▇▇▇▇▇▇▇▇▇▇▇| 100.0% 0.0s/step - Loss: 1.36746 - Acc: 0.72 \u001b[00mm\n",
      "=> Train loss: 1.34473 - Train acc: 0.7 - Valid loss: 1.43694 - Valid acc: 0.7  - Time: 0.63s/epoch\n",
      "Epoch:  6/10\n",
      "\tTrain process: \u001b[92m ◒ |▇▇▇▇▇▇▇▇▇▇▇▇▇▇▇▇▇▇▇▇▇▇▇▇▇▇▇▇▇▇| 100.0% 0.01s/step - Loss: 1.04362 - Acc: 0.73 \u001b[00m\n",
      "\tValid process: \u001b[92m ◒ |▇▇▇▇▇▇▇▇▇▇▇▇▇▇▇▇▇▇▇▇▇▇▇▇▇▇▇▇▇▇| 100.0% 0.0s/step - Loss: 1.35583 - Acc: 0.56 \u001b[00mm\n",
      "=> Train loss: 1.1838 - Train acc: 0.7 - Valid loss: 0.89454 - Valid acc: 0.73  - Time: 0.63s/epoch\n",
      "Epoch:  7/10\n",
      "\tTrain process: \u001b[92m ◒ |▇▇▇▇▇▇▇▇▇▇▇▇▇▇▇▇▇▇▇▇▇▇▇▇▇▇▇▇▇▇| 100.0% 0.02s/step - Loss: 0.599 - Acc: 0.83 \u001b[00mmm\n",
      "\tValid process: \u001b[92m ◒ |▇▇▇▇▇▇▇▇▇▇▇▇▇▇▇▇▇▇▇▇▇▇▇▇▇▇▇▇▇▇| 100.0% 0.0s/step - Loss: 0.22488 - Acc: 0.94 \u001b[00mm\n",
      "=> Train loss: 1.01282 - Train acc: 0.73 - Valid loss: 0.72822 - Valid acc: 0.77  - Time: 0.67s/epoch\n",
      "Epoch:  8/10\n",
      "\tTrain process: \u001b[92m ◒ |▇▇▇▇▇▇▇▇▇▇▇▇▇▇▇▇▇▇▇▇▇▇▇▇▇▇▇▇▇▇| 100.0% 0.01s/step - Loss: 2.8557 - Acc: 0.15 \u001b[00mm\n",
      "\tValid process: \u001b[92m ◒ |▇▇▇▇▇▇▇▇▇▇▇▇▇▇▇▇▇▇▇▇▇▇▇▇▇▇▇▇▇▇| 100.0% 0.0s/step - Loss: 0.57658 - Acc: 0.79 \u001b[00m\n",
      "=> Train loss: 0.8758 - Train acc: 0.75 - Valid loss: 0.67346 - Valid acc: 0.77  - Time: 0.62s/epoch\n",
      "Epoch:  9/10\n",
      "\tTrain process: \u001b[92m ◒ |▇▇▇▇▇▇▇▇▇▇▇▇▇▇▇▇▇▇▇▇▇▇▇▇▇▇▇▇▇▇| 100.0% 0.01s/step - Loss: 0.57479 - Acc: 0.83 \u001b[00m\n",
      "\tValid process: \u001b[92m ◒ |▇▇▇▇▇▇▇▇▇▇▇▇▇▇▇▇▇▇▇▇▇▇▇▇▇▇▇▇▇▇| 100.0% 0.01s/step - Loss: 0.61162 - Acc: 0.78 \u001b[00m\n",
      "=> Train loss: 0.81172 - Train acc: 0.75 - Valid loss: 0.65499 - Valid acc: 0.78  - Time: 0.7s/epoch\n",
      "Epoch: 10/10\n",
      "\tTrain process: \u001b[92m ◒ |▇▇▇▇▇▇▇▇▇▇▇▇▇▇▇▇▇▇▇▇▇▇▇▇▇▇▇▇▇▇| 100.0% 0.02s/step - Loss: 0.34755 - Acc: 0.9 \u001b[00mm\n",
      "\tValid process: \u001b[92m ◒ |▇▇▇▇▇▇▇▇▇▇▇▇▇▇▇▇▇▇▇▇▇▇▇▇▇▇▇▇▇▇| 100.0% 0.0s/step - Loss: 1.10841 - Acc: 0.65 \u001b[00mm\n",
      "=> Train loss: 0.77939 - Train acc: 0.76 - Valid loss: 0.63044 - Valid acc: 0.79  - Time: 0.82s/epoch\n"
     ]
    }
   ],
   "source": [
    "model = NeuralNetwork(\n",
    "    hyper_params=hyper_params,\n",
    "    data_path=data_path,\n",
    "    batch_size=batch_size,\n",
    "    check_point_path=cpk_path,\n",
    "    warmup_steps=4000,\n",
    "    test_size=0.3, \n",
    "    load_check_point=pretrain,\n",
    "    device=device\n",
    ")\n",
    "model.fit(epoch)"
   ]
  },
  {
   "cell_type": "code",
   "execution_count": 43,
   "id": "455fd70a",
   "metadata": {},
   "outputs": [],
   "source": [
    "def generate(model: Transformer, x: list) -> torch.Tensor:\n",
    "    x = torch.tensor(x).to(\"cuda:0\" if torch.cuda.is_available() else \"cpu\").long()\n",
    "    x = x.unsqueeze(0)\n",
    "    with torch.no_grad():\n",
    "        while True:\n",
    "            pred = model(x)\n",
    "            k_top_pred = torch.topk(pred[0, -1, :], k=8, dim=0)\n",
    "            pred_idx = torch.distributions.Categorical(logits=k_top_pred.values).sample()\n",
    "\n",
    "            pred = k_top_pred.indices[pred_idx]\n",
    "            if pred.item() == 2:\n",
    "                break\n",
    "            if x.size(1) > 363:\n",
    "                break\n",
    "            x = torch.cat((x, pred.view(1, 1)), dim=1)\n",
    "    return x.squeeze()[1:]"
   ]
  },
  {
   "cell_type": "code",
   "execution_count": 52,
   "id": "98ee58a0",
   "metadata": {},
   "outputs": [
    {
     "data": {
      "text/plain": [
       "tensor([14, 15, 14, 14, 18, 14, 14, 14, 10, 11, 12, 14, 11, 14, 18, 11, 14, 18,\n",
       "        18, 18, 10,  9, 11, 14, 14, 14, 14, 15, 14, 11, 14, 18, 10, 20, 14, 10,\n",
       "        14, 15, 18, 14, 14, 10, 14, 11, 14, 10,  9, 14, 14, 18, 20, 10, 14, 15,\n",
       "        11, 15, 10, 11, 10, 18, 18, 12, 15, 11, 14, 10, 14, 14, 18, 18, 10, 10,\n",
       "        18, 18, 10, 14, 11, 14, 15, 14, 18, 14, 14,  9, 20, 20, 18, 15,  9, 14,\n",
       "        18, 14, 14, 10, 10, 10,  9, 20, 20, 18, 15, 14, 10, 14, 14, 10, 20, 15,\n",
       "        18, 14, 10, 10, 14, 14, 10,  9, 14, 10, 18, 10, 20, 18, 14, 15, 14, 14,\n",
       "        18, 10, 10,  9, 18, 15, 14, 20, 18, 18, 11, 14, 15, 10, 18, 10, 14, 14,\n",
       "        11, 14, 10, 10, 10,  9, 14, 15, 15, 14,  9, 20, 14, 10, 10, 14, 15, 18,\n",
       "        14, 20, 20, 14, 14, 11, 10, 12, 20, 10, 14, 18, 15, 11, 10, 14, 11, 15,\n",
       "        14,  9,  9,  9, 20, 18, 20, 10, 14, 10, 20, 20, 14, 18, 20, 20,  9, 10,\n",
       "        20, 14, 11,  9, 10, 10, 14, 15, 14, 15, 12, 10, 10,  9, 14, 10,  9, 14,\n",
       "        20, 18, 12, 14, 14, 11, 10, 10, 14, 10, 14, 15, 14, 20, 10, 10, 10, 14,\n",
       "        10, 20, 14, 14, 10, 10, 20, 14, 15, 15, 14, 10, 14, 15, 14, 15, 12, 14,\n",
       "        11, 20, 18, 10, 20, 14, 14, 20, 18, 12, 14, 14, 10, 14, 12, 14, 10, 14,\n",
       "        18, 18, 14, 14, 14, 15, 10, 10, 14, 14, 14, 18, 20, 14, 14, 14, 15, 18,\n",
       "        14, 15, 14, 14, 14, 15, 10, 20, 15, 15, 15, 20, 18, 18, 14, 20, 18, 20,\n",
       "        14, 14, 18, 14, 18, 10,  9, 11, 10, 11, 15,  9, 10, 14, 18, 14, 14, 11,\n",
       "        14, 18, 18, 10, 15, 14, 11, 10, 14, 14, 14, 14, 18, 20, 14, 14, 10, 14,\n",
       "        14, 14, 11, 14, 15, 18, 18, 14, 18, 20, 14, 14, 14, 14, 14, 14, 10, 14,\n",
       "        11, 14, 20], device='cuda:0')"
      ]
     },
     "execution_count": 52,
     "metadata": {},
     "output_type": "execute_result"
    }
   ],
   "source": [
    "gen_data = generate(model.model, [1])\n",
    "gen_data"
   ]
  },
  {
   "cell_type": "code",
   "execution_count": 56,
   "id": "54037cae",
   "metadata": {},
   "outputs": [],
   "source": [
    "import random\n",
    "def token2midi(tokens: torch.Tensor, save_path: str) -> None:\n",
    "    path = \"./datasets/midi_songs/*.mid\"\n",
    "    midi_list, list_path = load_midi_folder(path)\n",
    "    midi_list = list(filter(lambda midi: len(midi.time_signature_changes) == 1 ,midi_list))\n",
    "    midi_list = list(filter(lambda midi: midi.time_signature_changes[0].numerator==2, midi_list))\n",
    "    midi_list = list(filter(lambda midi: midi.time_signature_changes[0].denominator==4, midi_list))\n",
    "    N = len(midi_list)\n",
    "    idx = random.randint(0, N-1)\n",
    "    _notes = []\n",
    "    midi_object = midi_list[idx]\n",
    "    midi_notes = midi_object.instruments[0].notes\n",
    "    min_length = min(len(midi_notes), len(tokens))\n",
    "    for idx_note in range(min_length):\n",
    "        current_note = midi_notes[idx_note]\n",
    "        pitch = VOCABULARY[int(tokens[idx_note])].split(\"n\")[-1]\n",
    "        current_note.pitch = int(pitch)\n",
    "        #         current_note.pitch = int(tokens[idx_note]) + 48\n",
    "        _notes.append(current_note)\n",
    "    midi_object.instruments[0].notes = _notes \n",
    "    print(\"[INFO] Save successfully new midi file:\", save_path)\n",
    "    midi_object.dump(save_path)"
   ]
  },
  {
   "cell_type": "code",
   "execution_count": 57,
   "id": "51230ab5",
   "metadata": {},
   "outputs": [
    {
     "name": "stdout",
     "output_type": "stream",
     "text": [
      "[INFO] Load successfully 34 file midi from source\n",
      "[INFO] Save successfully new midi file: ./midi_gen/b1724.mid\n"
     ]
    }
   ],
   "source": [
    "token2midi(gen_data,\"./midi_gen/b1724.mid\")"
   ]
  },
  {
   "cell_type": "code",
   "execution_count": 2,
   "id": "d3ea6a55",
   "metadata": {},
   "outputs": [],
   "source": [
    "midi = mid_parser.MidiFile(\"./midi_gen/b1524.mid\")"
   ]
  },
  {
   "cell_type": "code",
   "execution_count": 4,
   "id": "b3a762bb",
   "metadata": {},
   "outputs": [
    {
     "data": {
      "text/plain": [
       "['__class__',\n",
       " '__delattr__',\n",
       " '__dict__',\n",
       " '__dir__',\n",
       " '__doc__',\n",
       " '__eq__',\n",
       " '__format__',\n",
       " '__ge__',\n",
       " '__getattribute__',\n",
       " '__gt__',\n",
       " '__hash__',\n",
       " '__init__',\n",
       " '__init_subclass__',\n",
       " '__le__',\n",
       " '__lt__',\n",
       " '__module__',\n",
       " '__ne__',\n",
       " '__new__',\n",
       " '__reduce__',\n",
       " '__reduce_ex__',\n",
       " '__repr__',\n",
       " '__setattr__',\n",
       " '__sizeof__',\n",
       " '__str__',\n",
       " '__subclasshook__',\n",
       " '__weakref__',\n",
       " '_convert_delta_to_cumulative',\n",
       " '_load_instruments',\n",
       " '_load_key_signatures',\n",
       " '_load_lyrics',\n",
       " '_load_markers',\n",
       " '_load_tempo_changes',\n",
       " '_load_time_signatures',\n",
       " 'dump',\n",
       " 'get_tick_to_time_mapping',\n",
       " 'instruments',\n",
       " 'key_signature_changes',\n",
       " 'lyrics',\n",
       " 'markers',\n",
       " 'max_tick',\n",
       " 'tempo_changes',\n",
       " 'ticks_per_beat',\n",
       " 'time_signature_changes']"
      ]
     },
     "execution_count": 4,
     "metadata": {},
     "output_type": "execute_result"
    }
   ],
   "source": [
    "dir(midi)"
   ]
  },
  {
   "cell_type": "code",
   "execution_count": 16,
   "id": "01287ee7",
   "metadata": {},
   "outputs": [
    {
     "data": {
      "text/plain": [
       "14857"
      ]
     },
     "execution_count": 16,
     "metadata": {},
     "output_type": "execute_result"
    }
   ],
   "source": [
    "midi.max_tick"
   ]
  },
  {
   "cell_type": "code",
   "execution_count": 15,
   "id": "772e8608",
   "metadata": {
    "scrolled": true
   },
   "outputs": [
    {
     "data": {
      "text/plain": [
       "[Note(start=0, end=455, pitch=67, velocity=80),\n",
       " Note(start=480, end=707, pitch=69, velocity=80),\n",
       " Note(start=720, end=833, pitch=67, velocity=80),\n",
       " Note(start=840, end=953, pitch=67, velocity=80),\n",
       " Note(start=960, end=1643, pitch=69, velocity=80),\n",
       " Note(start=1680, end=1793, pitch=67, velocity=80),\n",
       " Note(start=1800, end=1913, pitch=67, velocity=80),\n",
       " Note(start=1920, end=2147, pitch=69, velocity=80),\n",
       " Note(start=2160, end=2387, pitch=72, velocity=80),\n",
       " Note(start=2400, end=2627, pitch=64, velocity=80),\n",
       " Note(start=2640, end=2753, pitch=72, velocity=80),\n",
       " Note(start=2760, end=2873, pitch=72, velocity=80),\n",
       " Note(start=2880, end=3791, pitch=67, velocity=80),\n",
       " Note(start=3840, end=4181, pitch=72, velocity=80),\n",
       " Note(start=4200, end=4313, pitch=67, velocity=80),\n",
       " Note(start=4320, end=4661, pitch=69, velocity=80),\n",
       " Note(start=4680, end=4793, pitch=69, velocity=80),\n",
       " Note(start=4800, end=5141, pitch=72, velocity=80),\n",
       " Note(start=5160, end=5273, pitch=72, velocity=80),\n",
       " Note(start=5280, end=5507, pitch=72, velocity=80),\n",
       " Note(start=5520, end=5747, pitch=62, velocity=80),\n",
       " Note(start=5760, end=6671, pitch=62, velocity=80),\n",
       " Note(start=5760, end=6671, pitch=74, velocity=80),\n",
       " Note(start=6720, end=6947, pitch=67, velocity=80),\n",
       " Note(start=6720, end=6947, pitch=67, velocity=80),\n",
       " Note(start=7200, end=7427, pitch=67, velocity=80),\n",
       " Note(start=7440, end=7667, pitch=67, velocity=80),\n",
       " Note(start=7680, end=8363, pitch=67, velocity=80),\n",
       " Note(start=8400, end=8513, pitch=69, velocity=80),\n",
       " Note(start=8520, end=8633, pitch=67, velocity=80),\n",
       " Note(start=8640, end=8867, pitch=67, velocity=80),\n",
       " Note(start=8880, end=9107, pitch=67, velocity=80),\n",
       " Note(start=9120, end=9347, pitch=67, velocity=80),\n",
       " Note(start=9360, end=9473, pitch=69, velocity=80),\n",
       " Note(start=9480, end=9593, pitch=72, velocity=80),\n",
       " Note(start=9600, end=10055, pitch=69, velocity=80),\n",
       " Note(start=10080, end=10307, pitch=67, velocity=80),\n",
       " Note(start=10320, end=10433, pitch=62, velocity=80),\n",
       " Note(start=10440, end=10553, pitch=69, velocity=80),\n",
       " Note(start=10560, end=11015, pitch=72, velocity=80),\n",
       " Note(start=11040, end=11495, pitch=74, velocity=80),\n",
       " Note(start=11520, end=11861, pitch=72, velocity=80),\n",
       " Note(start=11880, end=11993, pitch=60, velocity=80),\n",
       " Note(start=12000, end=12113, pitch=62, velocity=80),\n",
       " Note(start=12120, end=12233, pitch=62, velocity=80),\n",
       " Note(start=12240, end=12467, pitch=67, velocity=80),\n",
       " Note(start=12480, end=12821, pitch=67, velocity=80),\n",
       " Note(start=12840, end=12953, pitch=72, velocity=80),\n",
       " Note(start=12960, end=13073, pitch=67, velocity=80),\n",
       " Note(start=13080, end=13193, pitch=67, velocity=80),\n",
       " Note(start=13200, end=13427, pitch=64, velocity=80),\n",
       " Note(start=13440, end=14351, pitch=72, velocity=80),\n",
       " Note(start=14400, end=14855, pitch=72, velocity=80)]"
      ]
     },
     "execution_count": 15,
     "metadata": {},
     "output_type": "execute_result"
    }
   ],
   "source": [
    "midi.instruments[0].notes"
   ]
  },
  {
   "cell_type": "code",
   "execution_count": 73,
   "id": "6d0c62c6",
   "metadata": {},
   "outputs": [],
   "source": [
    "from fractions import Fraction\n",
    "def midi2raw_data(midi: mid_parser.MidiFile) -> list:\n",
    "    ticks = 2*midi.ticks_per_beat\n",
    "    notes = midi.instruments[0].notes\n",
    "    for i in range(1, len(notes)):\n",
    "        if notes[i].start - notes[i].end < 60:\n",
    "            notes[i-1].end = notes[i].start\n",
    "    len_track = midi.max_tick//ticks\n",
    "    raw_data = [[] for _ in range(len_track+1)]\n",
    "    for idx, note in enumerate(notes):\n",
    "        duration = note.end - note.start\n",
    "        idx_pitch = NOTE_SEQUENCE.index(f\"n{note.pitch}\")\n",
    "        note_char = NOTE_CHAR_SEQUENCE[idx_pitch]\n",
    "        frac = Fraction(duration, ticks)\n",
    "        track_id = note.start//ticks\n",
    "        if frac.numerator == 1:\n",
    "            value = frac.denominator\n",
    "            raw_data[track_id].append(f\"{note_char}{8//value}\")\n",
    "        else:\n",
    "            if frac.numerator != 3:\n",
    "                continue\n",
    "            value = frac.denominator//2\n",
    "            raw_data[track_id].append(f\"{note_char}{8//value}>\")\n",
    "    return raw_data\n",
    "    "
   ]
  },
  {
   "cell_type": "code",
   "execution_count": 76,
   "id": "80652ec1",
   "metadata": {},
   "outputs": [],
   "source": [
    "raw = midi2raw_data(midi)"
   ]
  },
  {
   "cell_type": "code",
   "execution_count": 85,
   "id": "8de51df7",
   "metadata": {},
   "outputs": [
    {
     "data": {
      "text/plain": [
       "'G4 A2 G1 G1 | A4> G1 G1 | A2 c2 E2 c1 c1\\nG8 | c2> G1 A2> A1 | c2> c1 c2 D2\\nd8 | G4 G2 G2 | G4> A1 G1\\nG2 G2 G2 A1 c1 | A4 G2 D1 A1 | c4 d4\\nc2> C1 D1 D1 G2 | G2> c1 G1 G1 E2 | c8'"
      ]
     },
     "execution_count": 85,
     "metadata": {},
     "output_type": "execute_result"
    }
   ],
   "source": [
    "string_data = []\n",
    "for data in raw:\n",
    "    string_data.append(\" \".join(data))\n",
    "string_data = string_data[: -1]\n",
    "n_block = len(string_data)//3 + (len(string_data)%3 != 0)\n",
    "raw_data = []\n",
    "for i in range(n_block):\n",
    "    st = i*3\n",
    "    en = (i+1)*3\n",
    "    raw_data.append(\" | \".join(string_data[st: en]))\n",
    "\"\\n\".join(raw_data)"
   ]
  },
  {
   "cell_type": "code",
   "execution_count": 61,
   "id": "0a2cff86",
   "metadata": {},
   "outputs": [
    {
     "data": {
      "text/plain": [
       "[Note(start=0, end=480, pitch=67, velocity=80),\n",
       " Note(start=480, end=720, pitch=69, velocity=80),\n",
       " Note(start=720, end=840, pitch=67, velocity=80),\n",
       " Note(start=840, end=960, pitch=67, velocity=80),\n",
       " Note(start=960, end=1680, pitch=69, velocity=80),\n",
       " Note(start=1680, end=1800, pitch=67, velocity=80),\n",
       " Note(start=1800, end=1920, pitch=67, velocity=80),\n",
       " Note(start=1920, end=2160, pitch=69, velocity=80),\n",
       " Note(start=2160, end=2400, pitch=72, velocity=80),\n",
       " Note(start=2400, end=2640, pitch=64, velocity=80),\n",
       " Note(start=2640, end=2760, pitch=72, velocity=80),\n",
       " Note(start=2760, end=2880, pitch=72, velocity=80),\n",
       " Note(start=2880, end=3840, pitch=67, velocity=80),\n",
       " Note(start=3840, end=4200, pitch=72, velocity=80),\n",
       " Note(start=4200, end=4320, pitch=67, velocity=80),\n",
       " Note(start=4320, end=4680, pitch=69, velocity=80),\n",
       " Note(start=4680, end=4800, pitch=69, velocity=80),\n",
       " Note(start=4800, end=5160, pitch=72, velocity=80),\n",
       " Note(start=5160, end=5280, pitch=72, velocity=80),\n",
       " Note(start=5280, end=5520, pitch=72, velocity=80),\n",
       " Note(start=5520, end=5760, pitch=62, velocity=80),\n",
       " Note(start=5760, end=5760, pitch=62, velocity=80),\n",
       " Note(start=5760, end=6720, pitch=74, velocity=80),\n",
       " Note(start=6720, end=6720, pitch=67, velocity=80),\n",
       " Note(start=6720, end=7200, pitch=67, velocity=80),\n",
       " Note(start=7200, end=7440, pitch=67, velocity=80),\n",
       " Note(start=7440, end=7680, pitch=67, velocity=80),\n",
       " Note(start=7680, end=8400, pitch=67, velocity=80),\n",
       " Note(start=8400, end=8520, pitch=69, velocity=80),\n",
       " Note(start=8520, end=8640, pitch=67, velocity=80),\n",
       " Note(start=8640, end=8880, pitch=67, velocity=80),\n",
       " Note(start=8880, end=9120, pitch=67, velocity=80),\n",
       " Note(start=9120, end=9360, pitch=67, velocity=80),\n",
       " Note(start=9360, end=9480, pitch=69, velocity=80),\n",
       " Note(start=9480, end=9600, pitch=72, velocity=80),\n",
       " Note(start=9600, end=10080, pitch=69, velocity=80),\n",
       " Note(start=10080, end=10320, pitch=67, velocity=80),\n",
       " Note(start=10320, end=10440, pitch=62, velocity=80),\n",
       " Note(start=10440, end=10560, pitch=69, velocity=80),\n",
       " Note(start=10560, end=11040, pitch=72, velocity=80),\n",
       " Note(start=11040, end=11520, pitch=74, velocity=80),\n",
       " Note(start=11520, end=11880, pitch=72, velocity=80),\n",
       " Note(start=11880, end=12000, pitch=60, velocity=80),\n",
       " Note(start=12000, end=12120, pitch=62, velocity=80),\n",
       " Note(start=12120, end=12240, pitch=62, velocity=80),\n",
       " Note(start=12240, end=12480, pitch=67, velocity=80),\n",
       " Note(start=12480, end=12840, pitch=67, velocity=80),\n",
       " Note(start=12840, end=12960, pitch=72, velocity=80),\n",
       " Note(start=12960, end=13080, pitch=67, velocity=80),\n",
       " Note(start=13080, end=13200, pitch=67, velocity=80),\n",
       " Note(start=13200, end=13440, pitch=64, velocity=80),\n",
       " Note(start=13440, end=14400, pitch=72, velocity=80),\n",
       " Note(start=14400, end=14855, pitch=72, velocity=80)]"
      ]
     },
     "execution_count": 61,
     "metadata": {},
     "output_type": "execute_result"
    }
   ],
   "source": [
    "midi.instruments[0].notes"
   ]
  },
  {
   "cell_type": "code",
   "execution_count": 22,
   "id": "23aff833",
   "metadata": {},
   "outputs": [
    {
     "data": {
      "text/plain": [
       "683"
      ]
     },
     "execution_count": 22,
     "metadata": {},
     "output_type": "execute_result"
    }
   ],
   "source": [
    "len()"
   ]
  },
  {
   "cell_type": "code",
   "execution_count": 42,
   "id": "5da6b00b",
   "metadata": {},
   "outputs": [
    {
     "data": {
      "text/plain": [
       "720"
      ]
     },
     "execution_count": 42,
     "metadata": {},
     "output_type": "execute_result"
    }
   ],
   "source": [
    "1680 - 960\n"
   ]
  },
  {
   "cell_type": "code",
   "execution_count": null,
   "id": "7dc93ca3",
   "metadata": {},
   "outputs": [],
   "source": []
  },
  {
   "cell_type": "code",
   "execution_count": null,
   "id": "86ac203d",
   "metadata": {},
   "outputs": [],
   "source": []
  },
  {
   "cell_type": "code",
   "execution_count": null,
   "id": "94eea3fe",
   "metadata": {},
   "outputs": [],
   "source": []
  },
  {
   "cell_type": "code",
   "execution_count": null,
   "id": "9e79b908",
   "metadata": {},
   "outputs": [],
   "source": []
  },
  {
   "cell_type": "code",
   "execution_count": null,
   "id": "489d6ced",
   "metadata": {},
   "outputs": [],
   "source": []
  },
  {
   "cell_type": "code",
   "execution_count": null,
   "id": "d821d0b3",
   "metadata": {},
   "outputs": [],
   "source": []
  },
  {
   "cell_type": "code",
   "execution_count": null,
   "id": "5df4e9c8",
   "metadata": {},
   "outputs": [],
   "source": []
  },
  {
   "cell_type": "code",
   "execution_count": null,
   "id": "74a7b51c",
   "metadata": {},
   "outputs": [],
   "source": []
  },
  {
   "cell_type": "code",
   "execution_count": null,
   "id": "3e44385e",
   "metadata": {},
   "outputs": [],
   "source": []
  },
  {
   "cell_type": "code",
   "execution_count": null,
   "id": "8e335908",
   "metadata": {},
   "outputs": [],
   "source": []
  },
  {
   "cell_type": "code",
   "execution_count": 2,
   "id": "cdbd9851",
   "metadata": {},
   "outputs": [],
   "source": [
    "tensor_data = torch.load(\"./data_gen/data_v7.pt\")"
   ]
  },
  {
   "cell_type": "code",
   "execution_count": 4,
   "id": "22f7b06f",
   "metadata": {},
   "outputs": [
    {
     "data": {
      "text/plain": [
       "tensor([ 1., 14., 10., 14., 14., 15., 15., 14., 14., 10., 12., 14., 14., 11.,\n",
       "         9., 10., 11., 10.,  9., 10.,  9., 14., 14., 11., 11., 10., 14., 11.,\n",
       "        10.,  9., 10., 10.,  9.,  5.,  6.,  9.,  5.,  6.,  5.,  9., 10.,  9.,\n",
       "         5.,  6.,  5.,  9.,  9., 10., 10., 14., 14., 14., 15., 15., 14., 14.,\n",
       "        10., 12., 14., 14., 11.,  9., 10., 11., 10.,  9., 10., 14., 14., 11.,\n",
       "        11., 10., 14., 11., 10.,  9., 10., 10.,  9.,  5.,  6.,  9.,  5.,  6.,\n",
       "         5.,  5.,  6.,  9.,  5.,  6.,  5.,  9.,  9., 10., 10., 10., 14., 14.,\n",
       "        15., 15., 14., 15., 14., 15., 14., 12., 10., 10., 14., 10., 10., 10.,\n",
       "        14., 15., 14., 15., 14., 11., 11., 14., 15., 14., 11., 14., 11., 10.,\n",
       "         9.,  9., 10., 11., 10.,  6.,  5., 10., 11., 10., 10., 10.,  9.,  5.,\n",
       "         6.,  9.,  9.,  6.,  5.,  9., 10.,  9.,  5.,  6.,  5.,  9.,  9., 10.,\n",
       "        10., 14., 14., 14., 15., 15., 14., 14., 10., 12., 14., 14., 11.,  9.,\n",
       "        10., 11., 11.,  9., 14., 14., 11., 11., 10., 14., 10., 10.,  9., 10.,\n",
       "        10.,  9.,  5.,  6.,  9.,  5.,  6.,  5.,  9., 10.,  9.,  5.,  6.,  5.,\n",
       "         9.,  9., 10., 10., 14., 14., 14., 15., 15., 14., 14., 10., 12., 14.,\n",
       "        14., 11.,  9., 10., 11., 11., 10., 15., 14., 11., 11., 10., 14., 11.,\n",
       "        10.,  9.,  9., 10., 11., 10.,  9.,  9., 10., 11., 10.,  9., 10., 11.,\n",
       "        10.,  9.,  6., 14., 15., 14., 11., 14., 11., 10.,  9., 10., 11., 10.,\n",
       "         9.,  6.,  9.,  6.,  5.,  9.,  9.,  0.,  0.,  0.,  0.,  0.,  0.,  0.,\n",
       "         0.,  0.,  0.,  0.,  0.,  0.,  0.,  0.,  0.,  0.,  0.,  0.,  0.,  0.,\n",
       "         0.,  0.,  0.,  0.,  0.,  0.,  0.,  0.,  0.,  0.,  0.,  0.,  0.,  0.,\n",
       "         0.,  0.,  0.,  0.,  0.,  0.,  0.,  0.,  0.,  0.,  0.,  0.,  0.,  0.,\n",
       "         0.,  0.,  0.,  0.,  0.,  0.,  0.,  0.,  0.,  0.,  0.,  0.,  0.,  0.,\n",
       "         0.,  0.,  0.,  0.,  0.,  0.,  0.,  0.,  0.,  0.,  0.,  0.,  0.,  0.,\n",
       "         0.,  0.,  0.,  0.,  0.,  0.,  0.,  0.,  0.,  0.,  0.,  0.,  0.,  0.,\n",
       "         0.,  0.,  0.,  0.,  0.,  0.,  0.,  0.,  0.,  0.,  0.,  0.,  2.])"
      ]
     },
     "execution_count": 4,
     "metadata": {},
     "output_type": "execute_result"
    }
   ],
   "source": [
    "tensor_data[0]"
   ]
  },
  {
   "cell_type": "code",
   "execution_count": null,
   "id": "1a2a3061",
   "metadata": {},
   "outputs": [],
   "source": []
  }
 ],
 "metadata": {
  "kernelspec": {
   "display_name": "Math Scanner",
   "language": "python",
   "name": "math_scanner"
  },
  "language_info": {
   "codemirror_mode": {
    "name": "ipython",
    "version": 3
   },
   "file_extension": ".py",
   "mimetype": "text/x-python",
   "name": "python",
   "nbconvert_exporter": "python",
   "pygments_lexer": "ipython3",
   "version": "3.8.13"
  }
 },
 "nbformat": 4,
 "nbformat_minor": 5
}
